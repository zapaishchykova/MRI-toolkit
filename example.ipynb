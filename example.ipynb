{
 "cells": [
  {
   "cell_type": "code",
   "execution_count": null,
   "id": "3e76fd11",
   "metadata": {},
   "outputs": [],
   "source": [
    "import sys\n",
    "import os\n",
    "import shutil\n",
    "import subprocess\n",
    "import logging\n",
    "\n",
    "import numpy as np\n",
    "import nibabel as nib\n",
    "\n",
    "import pandas as pd\n",
    "import itk\n",
    "import skimage\n",
    "import matplotlib.pyplot as plt\n",
    "\n",
    "import SimpleITK as sitk\n",
    "from scipy.signal import medfilt\n",
    "from helper_mri import *"
   ]
  },
  {
   "cell_type": "code",
   "execution_count": null,
   "id": "4a8adcfb",
   "metadata": {},
   "outputs": [],
   "source": [
    "# change paths to your data here\n",
    "img_path = 'data/sub-pixar155_T1w.nii.gz' # input raw t1 MRI path\n",
    "output_path = 'output/'\n",
    "age = 7 # age of subject\n",
    "\n",
    "age_ranges = {\"mni_templates/nihpd_asym_04.5-08.5_t1w.nii\" : {\"min_age\":3, \"max_age\":7},\n",
    "                \"mni_templates/nihpd_asym_07.5-13.5_t1w.nii\": {\"min_age\":8, \"max_age\":13},\n",
    "                \"mni_templates/nihpd_asym_13.0-18.5_t1w.nii\": {\"min_age\":14, \"max_age\":35}}"
   ]
  },
  {
   "cell_type": "code",
   "execution_count": null,
   "id": "cc6d933b",
   "metadata": {},
   "outputs": [],
   "source": [
    "def select_template_based_on_age(age):\n",
    "    for golden_file_path, age_values in age_ranges.items():\n",
    "        if age_values['min_age'] <= int(age) and int(age) <= age_values['max_age']: \n",
    "            print(golden_file_path)\n",
    "            return golden_file_path"
   ]
  },
  {
   "cell_type": "code",
   "execution_count": null,
   "id": "6386979b",
   "metadata": {},
   "outputs": [],
   "source": [
    "# load image\n",
    "image, affine = load_nii(img_path)\n",
    "plt.imshow(image[:,:,140])\n",
    "print(nib.aff2axcodes(affine))"
   ]
  },
  {
   "cell_type": "markdown",
   "id": "0585ecc1",
   "metadata": {},
   "source": [
    "## Register to MNI template"
   ]
  },
  {
   "cell_type": "code",
   "execution_count": null,
   "id": "37c67aa9",
   "metadata": {},
   "outputs": [],
   "source": [
    "# path to store registered image in\n",
    "new_path_to = output_path+img_path.split(\"/\")[-1].split(\".\")[0]\n",
    "if not os.path.exists(new_path_to):\n",
    "    os.mkdir(new_path_to)\n",
    "new_path_nii = output_path +  \"registered.nii.gz\"\n",
    "\n",
    "# register image to MNI template\n",
    "golden_file_path = select_template_based_on_age(age)\n",
    "print(\"Registering to template:\", golden_file_path, new_path_nii)\n",
    "register_to_template(img_path, new_path_nii, golden_file_path)"
   ]
  },
  {
   "cell_type": "markdown",
   "id": "2b66a561",
   "metadata": {},
   "source": [
    "## Normalize image"
   ]
  },
  {
   "cell_type": "code",
   "execution_count": null,
   "id": "2510317a",
   "metadata": {},
   "outputs": [],
   "source": [
    "# enchance and zscore normalize image\n",
    "if not os.path.exists(new_path_to+\"/no_z\"):\n",
    "    os.mkdir(new_path_to+\"/no_z\")\n",
    "    \n",
    "image_sitk =  sitk.ReadImage(new_path_to+\"/registered.nii.gz\")\n",
    "image_array  = sitk.GetArrayFromImage(image_sitk)\n",
    "image_array = enhance_noN4(image_array)\n",
    "image3 = sitk.GetImageFromArray(image_array)\n",
    "\n",
    "sitk.WriteImage(image3,new_path_to+\"/no_z/registered_no_z.nii\") \n",
    "cmd_line = \"zscore-normalize \"+new_path_to+\"/no_z/registered_no_z.nii -o \"+new_path_to+'/registered_z.nii'\n",
    "subprocess.getoutput(cmd_line)     \n",
    "print(cmd_line)\n",
    "print(\"Preprocessing done!\")"
   ]
  }
 ],
 "metadata": {
  "kernelspec": {
   "display_name": "Python 3 (ipykernel)",
   "language": "python",
   "name": "python3"
  },
  "language_info": {
   "codemirror_mode": {
    "name": "ipython",
    "version": 3
   },
   "file_extension": ".py",
   "mimetype": "text/x-python",
   "name": "python",
   "nbconvert_exporter": "python",
   "pygments_lexer": "ipython3",
   "version": "3.9.16"
  }
 },
 "nbformat": 4,
 "nbformat_minor": 5
}
